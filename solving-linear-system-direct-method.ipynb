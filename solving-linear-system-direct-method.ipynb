{
 "cells": [
  {
   "cell_type": "markdown",
   "metadata": {},
   "source": [
    "# Solving Linear Systems with Direct Methods\n",
    "\n",
    "Teng-Jui Lin\n",
    "\n",
    "Content adapted from UW AMATH 301, Beginning Scientific Computing, in Spring 2020.\n",
    "\n",
    "- Solving linear systems with direct methods\n",
    "    - Matrix inversion by [`scipy.linalg.inv()`](https://docs.scipy.org/doc/scipy/reference/reference/generated/scipy.linalg.inv.html)\n",
    "    - LU decomposition with partial pivoting by [`scipy.linalg.lu()`](https://docs.scipy.org/doc/scipy/reference/reference/generated/scipy.linalg.lu.html)\n",
    "- `scipy` implementations\n",
    "    - Solving linear systems by [`scipy.linalg.solve()`](https://docs.scipy.org/doc/scipy/reference/reference/generated/scipy.linalg.solve.html)"
   ]
  },
  {
   "cell_type": "markdown",
   "metadata": {},
   "source": [
    "## Matrix inversion\n",
    "\n",
    "Given a system $\\mathbf{A}\\mathbf{x} = \\mathbf{b}$, we technically have\n",
    "\n",
    "$$\n",
    "\\begin{aligned}\n",
    "\\mathbf{A}\\mathbf{x} &= \\mathbf{b} \\\\\n",
    "\\mathbf{A}^{-1}\\mathbf{A}\\mathbf{x} &= \\mathbf{A}^{-1}\\mathbf{b} \\\\\n",
    "\\mathbf{x} &= \\mathbf{A}^{-1}\\mathbf{b} \\\\\n",
    "\\end{aligned}\n",
    "$$\n",
    "\n",
    "However, we do not use matrix inversion because it is slow, have large error, and not all matrices have an inverse. Singular (non-invertable) matrices have $\\det(\\mathbf{A}) = 0$, or $\\mathrm{cond}(\\mathbf{A}) \\sim 10^{15}$.\n",
    "\n",
    "**Problem Statement.** Use matrix inversion to solve the linear system $\\mathbf{Ax=b}$ where\n",
    "\n",
    "$$\n",
    "\\mathbf{A} =\n",
    "\\begin{bmatrix}\n",
    "1 & 0 & 0 \\\\\n",
    "1 & -1 & 0 \\\\\n",
    "2 & -1 & 3 \\\\\n",
    "\\end{bmatrix},\n",
    "\\mathbf{x} =\n",
    "\\begin{bmatrix}\n",
    "x \\\\ y \\\\ z \\\\\n",
    "\\end{bmatrix},\n",
    "\\mathbf{b} =\n",
    "\\begin{bmatrix}\n",
    "5 \\\\ -2 \\\\ 9 \\\\\n",
    "\\end{bmatrix}\n",
    "$$"
   ]
  },
  {
   "cell_type": "code",
   "execution_count": 1,
   "metadata": {},
   "outputs": [],
   "source": [
    "import numpy as np\n",
    "import scipy\n",
    "from scipy import linalg"
   ]
  },
  {
   "cell_type": "code",
   "execution_count": 2,
   "metadata": {},
   "outputs": [],
   "source": [
    "A = np.array([[1, 0, 0], [1, -1, 0], [2, -1, 3]])\n",
    "b = np.array([5, -2, 9])"
   ]
  },
  {
   "cell_type": "code",
   "execution_count": 3,
   "metadata": {},
   "outputs": [
    {
     "data": {
      "text/plain": [
       "array([5., 7., 2.])"
      ]
     },
     "execution_count": 3,
     "metadata": {},
     "output_type": "execute_result"
    }
   ],
   "source": [
    "# solve by inversion\n",
    "x = scipy.linalg.inv(A) @ b\n",
    "x"
   ]
  },
  {
   "cell_type": "markdown",
   "metadata": {},
   "source": [
    "## LU decomposition\n",
    "\n",
    "Goal: Solve a system of form $\\mathbf{A}\\mathbf{x} = \\mathbf{b}$.\n",
    "\n",
    "We can decompose the matrix $\\mathbf{A}$ into an upper triangular matrix $\\mathbf{L}$ and lower triangular matrix $\\mathbf{U}$:\n",
    "\n",
    "$$\n",
    "\\mathbf{A} = \\mathbf{L}\\mathbf{U}\n",
    "$$\n",
    "\n",
    "so we have\n",
    "\n",
    "$$\n",
    "\\begin{aligned}\n",
    "\\mathbf{A}\\mathbf{x} &= \\mathbf{b} \\\\\n",
    "\\mathbf{L}\\mathbf{U}\\mathbf{x} &= \\mathbf{b} \\\\\n",
    "\\mathbf{L}\\mathbf{y} &= \\mathbf{b}\n",
    "\\end{aligned}\n",
    "$$\n",
    "\n",
    "where $\\mathbf{U}\\mathbf{x} = \\mathbf{y}$. We can first solve for $\\mathbf{y}$, then solve for $\\mathbf{x}$. Note that upper triangular and lower triangular matrices are easy to solve, so LU decomposition is faster than Gaussian elimination.\n",
    "\n",
    "LU decomposition is advantageous when the same $\\mathbf{A}$ is used to solve many different $\\mathbf{b}$.\n",
    "\n",
    "**Problem Statement.** Use LU decomposition to solve the linear system $\\mathbf{Ax=b}$ where\n",
    "\n",
    "$$\n",
    "\\mathbf{A} =\n",
    "\\begin{bmatrix}\n",
    "1 & 0 & 0 \\\\\n",
    "1 & -1 & 0 \\\\\n",
    "2 & -1 & 3 \\\\\n",
    "\\end{bmatrix},\n",
    "\\mathbf{x} =\n",
    "\\begin{bmatrix}\n",
    "x \\\\ y \\\\ z \\\\\n",
    "\\end{bmatrix},\n",
    "\\mathbf{b} =\n",
    "\\begin{bmatrix}\n",
    "5 \\\\ -2 \\\\ 9 \\\\\n",
    "\\end{bmatrix}\n",
    "$$"
   ]
  },
  {
   "cell_type": "code",
   "execution_count": 4,
   "metadata": {},
   "outputs": [],
   "source": [
    "A = np.array([[1, 0, 0], [1, -1, 0], [2, -1, 3]])\n",
    "b = np.array([5, -2, 9])"
   ]
  },
  {
   "cell_type": "code",
   "execution_count": 5,
   "metadata": {},
   "outputs": [
    {
     "data": {
      "text/plain": [
       "array([5., 7., 2.])"
      ]
     },
     "execution_count": 5,
     "metadata": {},
     "output_type": "execute_result"
    }
   ],
   "source": [
    "# solve by LU decomposition\n",
    "L, U = scipy.linalg.lu(A, permute_l=True)\n",
    "y = scipy.linalg.solve(L, b)\n",
    "x = scipy.linalg.solve(U, y)\n",
    "x"
   ]
  },
  {
   "cell_type": "markdown",
   "metadata": {},
   "source": [
    "## LU decomposition with partial pivoting\n",
    "\n",
    "Partial pivoting uses permutation matrix $\\mathbf{P}$ to change column order, reducing numerical error. In this case, we LU decompose $\\mathbf{PA}$:\n",
    "\n",
    "$$\n",
    "\\begin{aligned}\n",
    "\\mathbf{PAx} &= \\mathbf{Pb} \\\\\n",
    "\\mathbf{LUx} &= \\mathbf{Pb} \\\\\n",
    "\\mathbf{L}\\mathbf{y} &= \\mathbf{Pb}\n",
    "\\end{aligned}\n",
    "$$\n",
    "\n",
    "where $\\mathbf{U}\\mathbf{x} = \\mathbf{y}$. We can then first solve for $\\mathbf{y}$, then solve for $\\mathbf{x}$.\n",
    "\n",
    "**Problem Statement.** Use LU decomposition with partial pivoting to solve the linear system $\\mathbf{Ax=b}$ where\n",
    "\n",
    "$$\n",
    "\\mathbf{A} =\n",
    "\\begin{bmatrix}\n",
    "1 & 0 & 0 \\\\\n",
    "1 & -1 & 0 \\\\\n",
    "2 & -1 & 3 \\\\\n",
    "\\end{bmatrix},\n",
    "\\mathbf{x} =\n",
    "\\begin{bmatrix}\n",
    "x \\\\ y \\\\ z \\\\\n",
    "\\end{bmatrix},\n",
    "\\mathbf{b} =\n",
    "\\begin{bmatrix}\n",
    "5 \\\\ -2 \\\\ 9 \\\\\n",
    "\\end{bmatrix}\n",
    "$$"
   ]
  },
  {
   "cell_type": "code",
   "execution_count": 6,
   "metadata": {},
   "outputs": [],
   "source": [
    "A = np.array([[1, 0, 0], [1, -1, 0], [2, -1, 3]])\n",
    "b = np.array([5, -2, 9])"
   ]
  },
  {
   "cell_type": "code",
   "execution_count": 7,
   "metadata": {},
   "outputs": [
    {
     "data": {
      "text/plain": [
       "array([5., 7., 2.])"
      ]
     },
     "execution_count": 7,
     "metadata": {},
     "output_type": "execute_result"
    }
   ],
   "source": [
    "# solve by LU decomposition with partial pivoting\n",
    "P, L, U = scipy.linalg.lu(A)\n",
    "y = scipy.linalg.solve(L, P@b)\n",
    "x = scipy.linalg.solve(U, y)\n",
    "x"
   ]
  },
  {
   "cell_type": "markdown",
   "metadata": {},
   "source": [
    "## Solving linear systems with `scipy`\n",
    "\n",
    "[`scipy.linalg.solve()`](https://docs.scipy.org/doc/scipy/reference/generated/scipy.linalg.solve.html) directly solves the linear system $\\mathbf{Ax=b}$.\n",
    "\n",
    "**Problem Statement.** Use `scipy.linalg.solve()` to solve the linear system $\\mathbf{Ax=b}$ where\n",
    "\n",
    "$$\n",
    "\\mathbf{A} =\n",
    "\\begin{bmatrix}\n",
    "1 & 0 & 0 \\\\\n",
    "1 & -1 & 0 \\\\\n",
    "2 & -1 & 3 \\\\\n",
    "\\end{bmatrix},\n",
    "\\mathbf{x} =\n",
    "\\begin{bmatrix}\n",
    "x \\\\ y \\\\ z \\\\\n",
    "\\end{bmatrix},\n",
    "\\mathbf{b} =\n",
    "\\begin{bmatrix}\n",
    "5 \\\\ -2 \\\\ 9 \\\\\n",
    "\\end{bmatrix}\n",
    "$$"
   ]
  },
  {
   "cell_type": "code",
   "execution_count": 8,
   "metadata": {},
   "outputs": [],
   "source": [
    "A = np.array([[1, 0, 0], [1, -1, 0], [2, -1, 3]])\n",
    "b = np.array([5, -2, 9])"
   ]
  },
  {
   "cell_type": "code",
   "execution_count": 9,
   "metadata": {},
   "outputs": [
    {
     "data": {
      "text/plain": [
       "array([5., 7., 2.])"
      ]
     },
     "execution_count": 9,
     "metadata": {},
     "output_type": "execute_result"
    }
   ],
   "source": [
    "# solve by scipy\n",
    "x = scipy.linalg.solve(A, b)\n",
    "x"
   ]
  }
 ],
 "metadata": {
  "kernelspec": {
   "display_name": "Python 3",
   "language": "python",
   "name": "python3"
  },
  "language_info": {
   "codemirror_mode": {
    "name": "ipython",
    "version": 3
   },
   "file_extension": ".py",
   "mimetype": "text/x-python",
   "name": "python",
   "nbconvert_exporter": "python",
   "pygments_lexer": "ipython3",
   "version": "3.7.4"
  }
 },
 "nbformat": 4,
 "nbformat_minor": 4
}
