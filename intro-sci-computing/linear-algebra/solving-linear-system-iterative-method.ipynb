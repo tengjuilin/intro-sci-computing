{
 "cells": [
  {
   "cell_type": "markdown",
   "metadata": {},
   "source": [
    "# Solving Linear Systems with Iterative Methods\n",
    "\n",
    "Teng-Jui Lin\n",
    "\n",
    "Content adapted from UW AMATH 301, Beginning Scientific Computing, in Spring 2020.\n",
    "\n",
    "- Solving linear systems with iteration methods\n",
    "    - Jocabi method\n",
    "    - Gauss-Seidel method\n",
    "- Convergence criteria of the methods\n",
    "    - Finding eigenvalues by [`np.linalg.eig()`](https://numpy.org/doc/stable/reference/generated/numpy.linalg.eig.html) or [`np.linalg.eigvals()`](https://numpy.org/doc/stable/reference/generated/numpy.linalg.eigvals.html)\n",
    "\n",
    "Iteration methods are useful to solve for systems with large and sparse matrices."
   ]
  },
  {
   "cell_type": "markdown",
   "metadata": {},
   "source": [
    "## Jacobi method\n",
    "\n",
    "Goal: solve for a linear system $\\mathbf{Ax=b}$.\n",
    "\n",
    "We split the matrix $\\mathbf{A}$ into a diagonal matrix $\\mathbf{D}$ and a matrix of the rest $\\mathbf{T}$:\n",
    "\n",
    "$$\n",
    "\\mathbf{A = D+T}\n",
    "$$\n",
    "\n",
    "so that\n",
    "\n",
    "$$\n",
    "\\begin{aligned}\n",
    "\\mathbf{Ax} &= \\mathbf{b} \\\\\n",
    "\\mathbf{(D+T)x} &= \\mathbf{b} \\\\\n",
    "\\mathbf{Dx+Tx} &= \\mathbf{b} \\\\\n",
    "\\mathbf{Dx} &= \\mathbf{-Tx+b} \\\\\n",
    "\\end{aligned}\n",
    "$$\n",
    "\n",
    "for exact solutions. Adding subscripts for numerical iteration, we have\n",
    "\n",
    "$$\n",
    "\\begin{aligned}\n",
    "\\mathbf{Dx}_{k+1} &= \\mathbf{-Tx}_{k}+\\mathbf{b} \\\\\n",
    "\\mathbf{x}_{k+1} &= \\mathbf{D}^{-1}(\\mathbf{-Tx}_{k}+\\mathbf{b}) \\\\\n",
    "\\mathbf{x}_{k+1} &= -\\mathbf{D}^{-1}\\mathbf{Tx}_{k}+\\mathbf{D}^{-1}\\mathbf{b}\n",
    "\\end{aligned}\n",
    "$$\n",
    "\n",
    "We can write this as\n",
    "\n",
    "$$\n",
    "\\mathbf{x}_{k+1} = \\mathbf{Mx}_{k}+\\mathbf{c}\n",
    "$$\n",
    "\n",
    "where $\\mathbf{M} = -\\mathbf{D}^{-1}\\mathbf{T}$ is the iteration matrix, and $\\mathbf{c=D}^{-1}\\mathbf{b}$. Note that the inverse of a diagonal matrix $\\mathcal{O}(n)$.\n",
    "\n",
    "We calculate $\\mathbf{T}$ by $\\mathbf{A = D+T \\implies T=A-D}$."
   ]
  },
  {
   "cell_type": "markdown",
   "metadata": {},
   "source": [
    "### Implementation\n",
    "\n",
    "**Problem Statement.** Use Jacobi method to solve the linear system $\\mathbf{Ax=b}$ where\n",
    "\n",
    "$$\n",
    "\\mathbf{A} =\n",
    "\\begin{bmatrix}\n",
    "7 & 1 & 1 & 1 \\\\\n",
    "0 & 15 & 2 & 9 \\\\\n",
    "3 & 3 & 20 & 0 \\\\\n",
    "1 & -1 & -2 & -12 \\\\\n",
    "\\end{bmatrix},\n",
    "\\mathbf{x} =\n",
    "\\begin{bmatrix}\n",
    "a \\\\ b \\\\ c \\\\ d \\\\\n",
    "\\end{bmatrix},\n",
    "\\mathbf{b} =\n",
    "\\begin{bmatrix}\n",
    "0 \\\\ 0 \\\\ 0 \\\\ 0 \\\\\n",
    "\\end{bmatrix}\n",
    "$$"
   ]
  },
  {
   "cell_type": "code",
   "execution_count": 1,
   "metadata": {},
   "outputs": [],
   "source": [
    "import numpy as np"
   ]
  },
  {
   "cell_type": "code",
   "execution_count": 2,
   "metadata": {},
   "outputs": [],
   "source": [
    "def jacobi(A, b, x0, tolerance=1e-6, max_iter=50000):\n",
    "    '''\n",
    "    Solves linear system Ax=b using Jacobi iteration method\n",
    "    \n",
    "    :param A: matrix of the system\n",
    "    :param b: column vector of the right hand side\n",
    "    :param x0: initial guess\n",
    "    :param tolerance: tolerance for stopping criteria\n",
    "    :param max_iter: maximum iterations allowed for calculation\n",
    "    :returns: final solution to Ax=b\n",
    "    '''\n",
    "    import numpy as np\n",
    "    import scipy\n",
    "    \n",
    "    D = np.diag(np.diag(A))\n",
    "    T = A - D\n",
    "    M = -np.linalg.solve(D, T)\n",
    "    c = np.linalg.solve(D, b)\n",
    "    \n",
    "    x_old = x0\n",
    "    i = 0  # iteration counter\n",
    "    change = tolerance * 2  # stopping criteria\n",
    "    \n",
    "    # jacobi method logic\n",
    "    while change > tolerance and i < max_iter:\n",
    "        x_new = M@x_old + c\n",
    "        change = np.linalg.norm(x_new - x_old, np.inf)\n",
    "        x_old = x_new\n",
    "        i += 1\n",
    "        \n",
    "    # maximum iteration warning\n",
    "    if i == max_iter:\n",
    "        import warnings\n",
    "        warnings.warn(f'Maximum iteration reached. Current stopping criteria is {change}', UserWarning)\n",
    "        \n",
    "    return x_new"
   ]
  },
  {
   "cell_type": "code",
   "execution_count": 3,
   "metadata": {},
   "outputs": [],
   "source": [
    "A = np.array([[7, 1, 1, 1], [0, 15, 2, 9], [3, 3, 20, 0], [1, -1, -2, -12]])\n",
    "b = np.array([1, -3, 12, 2])\n",
    "x0 = np.array([0, 0, 0, 0])"
   ]
  },
  {
   "cell_type": "code",
   "execution_count": 4,
   "metadata": {},
   "outputs": [
    {
     "data": {
      "text/plain": [
       "array([ 0.11085635, -0.1322629 ,  0.60321108, -0.24694186])"
      ]
     },
     "execution_count": 4,
     "metadata": {},
     "output_type": "execute_result"
    }
   ],
   "source": [
    "jacobi(A, b, x0)"
   ]
  },
  {
   "cell_type": "code",
   "execution_count": 5,
   "metadata": {},
   "outputs": [
    {
     "data": {
      "text/plain": [
       "array([ 0.11085627, -0.132263  ,  0.60321101, -0.2469419 ])"
      ]
     },
     "execution_count": 5,
     "metadata": {},
     "output_type": "execute_result"
    }
   ],
   "source": [
    "# compare with numpy solve\n",
    "np.linalg.solve(A, b)"
   ]
  },
  {
   "cell_type": "markdown",
   "metadata": {},
   "source": [
    "## Gauss-Seidel method\n",
    "\n",
    "Goal: solve for a linear system $\\mathbf{Ax=b}$.\n",
    "\n",
    "We split the matrix $\\mathbf{A}$ into a lower triangular matrix $\\mathbf{S}$ and a matrix of the rest (strictly upper triangular matrix) $\\mathbf{T}$:\n",
    "\n",
    "$$\n",
    "\\mathbf{A = S+T}\n",
    "$$\n",
    "\n",
    "so that\n",
    "\n",
    "$$\n",
    "\\begin{aligned}\n",
    "\\mathbf{Ax} &= \\mathbf{b} \\\\\n",
    "\\mathbf{(S+T)x} &= \\mathbf{b} \\\\\n",
    "\\mathbf{Sx+Tx} &= \\mathbf{b} \\\\\n",
    "\\mathbf{Sx} &= \\mathbf{-Tx+b} \\\\\n",
    "\\end{aligned}\n",
    "$$\n",
    "\n",
    "for exact solutions. Adding subscripts for numerical iteration, we have\n",
    "\n",
    "$$\n",
    "\\begin{aligned}\n",
    "\\mathbf{Sx}_{k+1} &= \\mathbf{-Tx}_{k}+\\mathbf{b} \\\\\n",
    "\\mathbf{x}_{k+1} &= \\mathbf{S}^{-1}(\\mathbf{-Tx}_{k}+\\mathbf{b}) \\\\\n",
    "\\mathbf{x}_{k+1} &= -\\mathbf{S}^{-1}\\mathbf{Tx}_{k}+\\mathbf{S}^{-1}\\mathbf{b}\n",
    "\\end{aligned}\n",
    "$$\n",
    "\n",
    "We can write this as\n",
    "\n",
    "$$\n",
    "\\mathbf{x}_{k+1} = \\mathbf{Mx}_{k}+\\mathbf{c}\n",
    "$$\n",
    "\n",
    "where $\\mathbf{M} = -\\mathbf{S}^{-1}\\mathbf{T}$ is the iteration matrix, and $\\mathbf{c=S}^{-1}\\mathbf{b}$. \n",
    "\n",
    "We calculate $\\mathbf{T}$ by $\\mathbf{A = S+T \\implies T=A-S}$."
   ]
  },
  {
   "cell_type": "markdown",
   "metadata": {},
   "source": [
    "### Implementation\n",
    "\n",
    "**Problem Statement.** Use Gauss-Seidel method to solve the linear system $\\mathbf{Ax=b}$ where\n",
    "\n",
    "$$\n",
    "\\mathbf{A} =\n",
    "\\begin{bmatrix}\n",
    "7 & 1 & 1 & 1 \\\\\n",
    "0 & 15 & 2 & 9 \\\\\n",
    "3 & 3 & 20 & 0 \\\\\n",
    "1 & -1 & -2 & -12 \\\\\n",
    "\\end{bmatrix},\n",
    "\\mathbf{x} =\n",
    "\\begin{bmatrix}\n",
    "a \\\\ b \\\\ c \\\\ d \\\\\n",
    "\\end{bmatrix},\n",
    "\\mathbf{b} =\n",
    "\\begin{bmatrix}\n",
    "0 \\\\ 0 \\\\ 0 \\\\ 0 \\\\\n",
    "\\end{bmatrix}\n",
    "$$"
   ]
  },
  {
   "cell_type": "code",
   "execution_count": 6,
   "metadata": {},
   "outputs": [],
   "source": [
    "def gauss_seidel(A, b, x0, tolerance=1e-6, max_iter=50000):\n",
    "    '''\n",
    "    Solves linear system Ax=b using Gauss-Seidel iteration method\n",
    "    \n",
    "    :param A: matrix of the system\n",
    "    :param b: column vector of the right hand side\n",
    "    :param x0: initial guess\n",
    "    :param tolerance: tolerance for stopping criteria\n",
    "    :param max_iter: maximum iterations allowed for calculation\n",
    "    :returns: final solution to Ax=b\n",
    "    '''\n",
    "    import numpy as np\n",
    "    import scipy\n",
    "    \n",
    "    S = np.tril(A)\n",
    "    T = A - S\n",
    "    M = -np.linalg.solve(S, T)\n",
    "    c = np.linalg.solve(S, b)\n",
    "    \n",
    "    x_old = x0\n",
    "    i = 0  # iteration counter\n",
    "    change = tolerance * 2  # stopping criteria\n",
    "    \n",
    "    # gauss seidel method logic\n",
    "    while change > tolerance and i < max_iter:\n",
    "        x_new = M@x_old + c\n",
    "        change = np.linalg.norm(x_new - x_old, np.inf)\n",
    "        x_old = x_new\n",
    "        i += 1\n",
    "    \n",
    "    # maximum iteration warning\n",
    "    if i == max_iter:\n",
    "        import warnings\n",
    "        warnings.warn(f'Maximum iteration reached. Current stopping criteria is {change}', UserWarning)\n",
    "    \n",
    "    return x_new"
   ]
  },
  {
   "cell_type": "code",
   "execution_count": 7,
   "metadata": {},
   "outputs": [],
   "source": [
    "A = np.array([[7, 1, 1, 1], [0, 15, 2, 9], [3, 3, 20, 0], [1, -1, -2, -12]])\n",
    "b = np.array([1, -3, 12, 2])\n",
    "x0 = np.array([0, 0, 0, 0])"
   ]
  },
  {
   "cell_type": "code",
   "execution_count": 8,
   "metadata": {},
   "outputs": [
    {
     "data": {
      "text/plain": [
       "array([ 0.11085636, -0.13226307,  0.60321101, -0.24694188])"
      ]
     },
     "execution_count": 8,
     "metadata": {},
     "output_type": "execute_result"
    }
   ],
   "source": [
    "gauss_seidel(A, b, x0)"
   ]
  },
  {
   "cell_type": "code",
   "execution_count": 9,
   "metadata": {},
   "outputs": [
    {
     "data": {
      "text/plain": [
       "array([ 0.11085627, -0.132263  ,  0.60321101, -0.2469419 ])"
      ]
     },
     "execution_count": 9,
     "metadata": {},
     "output_type": "execute_result"
    }
   ],
   "source": [
    "# compare with numpy solve\n",
    "np.linalg.solve(A, b)"
   ]
  },
  {
   "cell_type": "markdown",
   "metadata": {},
   "source": [
    "## Convergence of iteration methods\n",
    "### Strict diagonal dominance (SDD)\n",
    "\n",
    "A matrix is *strictly diagonal dominant* when the absolute value of its diagonal element in each row is greater than the sum of the absolute values of the off-diagonal elements.\n",
    "\n",
    "SDD is a weak convergence criteria. If the matrix $\\mathbf{A}$ is SDD, the methods will converge, but if the matrix is not SDD, it's inconclusive."
   ]
  },
  {
   "cell_type": "markdown",
   "metadata": {},
   "source": [
    "### Eigenvalues of iteration matrix $\\mathbf{M}$\n",
    "\n",
    "In iteration methods, we have\n",
    "\n",
    "$$\n",
    "\\mathbf{x}_{k+1} = \\mathbf{Mx}_{k}+\\mathbf{c},\n",
    "$$\n",
    "\n",
    "but for exact solution, we have\n",
    "\n",
    "$$\n",
    "\\mathbf{x}= \\mathbf{Mx}+\\mathbf{c}.\n",
    "$$\n",
    "\n",
    "Subtract thee equations, we get that the error is related to the iteration matrix:\n",
    "\n",
    "$$\n",
    "\\begin{aligned}\n",
    "\\mathbf{x-x}_{k+1} &= \\mathbf{M(x-x}_{k})+\\mathbf{c} \\\\\n",
    "\\varepsilon_{k+1} &= \\mathbf{M}\\varepsilon_{k}\n",
    "\\end{aligned}\n",
    "$$\n",
    "\n",
    "In general, the iteration matrix $\\mathbf{M}$ determines if the error vector grows or decays:\n",
    "\n",
    "$$\n",
    "\\varepsilon_{k} = \\mathbf{M}^k \\varepsilon_{0}\n",
    "$$\n",
    "\n",
    "Convergence criteria:\n",
    "\n",
    "1. If all the eigenvalues of $\\mathbf{M}$ satisfy $|\\lambda_i|<1$, the method converges\n",
    "2. If any of the eigenvalues of $\\mathbf{M}$ satisfy $|\\lambda_i|>1$, the method does not converge\n",
    "3. If the eigenvalues of $\\mathbf{M}$ are closer to 0, the method will converge faster\n",
    "\n",
    "Usually, the eigenvalues of the iteration matrix for the Gauss-Seidel method are smaller than the eigenvalues of the iteration matrix for the Jacobi method (but not always)."
   ]
  },
  {
   "cell_type": "markdown",
   "metadata": {},
   "source": [
    "### Implementation\n",
    "\n",
    "**Problem Statement.** Determine if Jacobi and Gauss-Seidel method will converge for solving the linear system $\\mathbf{Ax=b}$ where\n",
    "\n",
    "$$\n",
    "\\mathbf{A} =\n",
    "\\begin{bmatrix}\n",
    "7 & 1 & 1 & 1 \\\\\n",
    "0 & 15 & 2 & 9 \\\\\n",
    "3 & 3 & 20 & 0 \\\\\n",
    "1 & -1 & -2 & -12 \\\\\n",
    "\\end{bmatrix},\n",
    "\\mathbf{x} =\n",
    "\\begin{bmatrix}\n",
    "a \\\\ b \\\\ c \\\\ d \\\\\n",
    "\\end{bmatrix},\n",
    "\\mathbf{b} =\n",
    "\\begin{bmatrix}\n",
    "0 \\\\ 0 \\\\ 0 \\\\ 0 \\\\\n",
    "\\end{bmatrix}\n",
    "$$\n",
    "\n",
    "Compare their speed of convergence."
   ]
  },
  {
   "cell_type": "code",
   "execution_count": 10,
   "metadata": {},
   "outputs": [
    {
     "data": {
      "text/plain": [
       "0.3520564053849318"
      ]
     },
     "execution_count": 10,
     "metadata": {},
     "output_type": "execute_result"
    }
   ],
   "source": [
    "# convergence of jacobi method\n",
    "A = np.array([[7, 1, 1, 1], [0, 15, 2, 9], [3, 3, 20, 0], [1, -1, -2, -12]])\n",
    "D = np.diag(np.diag(A))\n",
    "T = A - D\n",
    "M = -np.linalg.solve(D, T)\n",
    "lambdas = np.linalg.eigvals(M)\n",
    "max_lambda = max(abs(lambdas))\n",
    "max_lambda"
   ]
  },
  {
   "cell_type": "code",
   "execution_count": 11,
   "metadata": {},
   "outputs": [
    {
     "data": {
      "text/plain": [
       "0.10591293846976324"
      ]
     },
     "execution_count": 11,
     "metadata": {},
     "output_type": "execute_result"
    }
   ],
   "source": [
    "# convergence of gauss-seidel method\n",
    "A = np.array([[7, 1, 1, 1], [0, 15, 2, 9], [3, 3, 20, 0], [1, -1, -2, -12]])\n",
    "S = np.tril(A)\n",
    "T = A - S\n",
    "M = -np.linalg.solve(S, T)\n",
    "lambdas = np.linalg.eigvals(M)\n",
    "max_lambda = max(abs(lambdas))\n",
    "max_lambda"
   ]
  },
  {
   "cell_type": "markdown",
   "metadata": {},
   "source": [
    "In this case, both iterative methods converge. Gauss-Seidel method has smaller maximum eigenvalue, so it converges faster than Jacobi method."
   ]
  }
 ],
 "metadata": {
  "kernelspec": {
   "display_name": "Python 3",
   "language": "python",
   "name": "python3"
  },
  "language_info": {
   "codemirror_mode": {
    "name": "ipython",
    "version": 3
   },
   "file_extension": ".py",
   "mimetype": "text/x-python",
   "name": "python",
   "nbconvert_exporter": "python",
   "pygments_lexer": "ipython3",
   "version": "3.7.4"
  }
 },
 "nbformat": 4,
 "nbformat_minor": 4
}
