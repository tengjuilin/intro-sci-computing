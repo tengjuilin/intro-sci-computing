{
 "cells": [
  {
   "cell_type": "markdown",
   "metadata": {},
   "source": [
    "# Root Finding Algorithms\n",
    "\n",
    "Teng-Jui Lin\n",
    "\n",
    "Content adapted from UW AMATH 301, Beginning Scientific Computing, in Spring 2020.\n",
    "\n",
    "- Root finding algorithms\n",
    "    - Bisection method\n",
    "    - Newton's method\n",
    "    - Errors\n",
    "- `scipy` implementation\n",
    "    - Finding root of scalar functions by [`scipy.optimize.root_scalar()`](https://docs.scipy.org/doc/scipy/reference/generated/scipy.optimize.root_scalar.html)\n",
    "\n",
    "As iterative methods, tolerance is set as a stopping criteria. The stopping criteria could be $f(x_k) < \\mathrm{tolerance}$, or it could also be $|x_{k+1} - x_k| < \\mathrm{tolerance}$."
   ]
  },
  {
   "cell_type": "markdown",
   "metadata": {},
   "source": [
    "## Bisection method\n",
    "\n",
    "Goal: Given an internal $[a, b]$, find *a* root of $f(x)$ in the interval.\n",
    "\n",
    "Intermediate value theorem states that for continuous functions, if $f(a)$ and $f(b)$ have opposite signs, then there is some $x$ between $a$ and $b$ such that $f(x) = 0$.\n",
    "\n",
    "Let midpoint be $x=m$.\n",
    "\n",
    "- If $f(m)$ and $f(a)$ have opposite signs, then change the new interval to $[a, m]$.\n",
    "- If $f(m)$ and $f(b)$ have opposite signs, then change the new interval to $[m, b]$."
   ]
  },
  {
   "cell_type": "markdown",
   "metadata": {},
   "source": [
    "### Implementation\n",
    "\n",
    "**Problem Statement.** Find the root of the function\n",
    "\n",
    "$$\n",
    "f(x) = x^3 + 5x^2 - 2x - 2\n",
    "$$\n",
    "\n",
    "using bisection method."
   ]
  },
  {
   "cell_type": "code",
   "execution_count": 1,
   "metadata": {},
   "outputs": [],
   "source": [
    "import matplotlib.pyplot as plt\n",
    "import numpy as np"
   ]
  },
  {
   "cell_type": "code",
   "execution_count": 2,
   "metadata": {},
   "outputs": [],
   "source": [
    "def bisection(f, left, right, tolerance=1e-6, max_iter=10000):\n",
    "    '''\n",
    "    Find a root of given function in an interval using bisection method.\n",
    "    \n",
    "    :param f: objective function\n",
    "    :param left: lower bound of interval\n",
    "    :param right: upper bound of interval\n",
    "    :param tolerance: tolerance of stopping criteria\n",
    "    :param max_iter: maximum iteration allowed for calculation\n",
    "    :returns: root of objective function\n",
    "    '''\n",
    "    f_mid = tolerance * 2  # arbitrary number greater than tolerance\n",
    "    i = 0  # iteration counter\n",
    "    \n",
    "    # bisection method logic\n",
    "    while abs(f_mid) > tolerance and i < max_iter:\n",
    "        mid = (left + right) / 2\n",
    "        f_mid = f(mid)\n",
    "        if f_mid == 0.0:\n",
    "            return mid\n",
    "        elif f_mid * f(left) < 0:  # check sign change\n",
    "            right = mid\n",
    "        elif f_mid * f(right) < 0:\n",
    "            left = mid\n",
    "        else:\n",
    "            raise ValueError('f(a) and f(b) must have different signs')\n",
    "        i += 1\n",
    "    \n",
    "    # maximum iteration warning\n",
    "    if i == max_iter:\n",
    "        import warnings\n",
    "        warnings.warn(f'Maximum iteration reached. Current stopping criteria is {abs(f_mid) :.2e}', UserWarning)\n",
    "    \n",
    "    return mid"
   ]
  },
  {
   "cell_type": "code",
   "execution_count": 3,
   "metadata": {},
   "outputs": [
    {
     "name": "stdout",
     "output_type": "stream",
     "text": [
      "-0.4797694683074951\n"
     ]
    }
   ],
   "source": [
    "def test_func(x):\n",
    "    return x**3 + 5*x**2 - 2*x - 2\n",
    "\n",
    "print(bisection(test_func, -2, 2))"
   ]
  },
  {
   "cell_type": "markdown",
   "metadata": {},
   "source": [
    "## Newton's method\n",
    "Goal: Find a root of a function $f(x)$ given an initial guess.\n",
    "\n",
    "Using tangent line approximation, we have\n",
    "\n",
    "$$\n",
    "y - f(x_k) = f'(x_k)(x - x_k)\n",
    "$$\n",
    "\n",
    "Newton's method uses the root of the tangent line approximation as the next guess ($y=0$), so we have\n",
    "\n",
    "$$\n",
    "\\begin{aligned}\n",
    "- f(x_k) &= f'(x_k)(x - x_k) \\\\\n",
    "x - x_k &= -\\dfrac{f(x_k)}{f'(x_k)} \\\\\n",
    "x &= x_k - \\dfrac{f(x_k)}{f'(x_k)}\n",
    "\\end{aligned}\n",
    "$$\n",
    "\n",
    "Therefore, the formula for Newton's method is\n",
    "\n",
    "$$\n",
    "x_{k+1} = x_k - \\dfrac{f(x_k)}{f'(x_k)}\n",
    "$$"
   ]
  },
  {
   "cell_type": "markdown",
   "metadata": {},
   "source": [
    "### Implementation\n",
    "\n",
    "**Problem Statement.** Find the root of the function\n",
    "\n",
    "$$\n",
    "f(x) = x^3 + 5x^2 - 2x - 2\n",
    "$$\n",
    "\n",
    "using Newton's method."
   ]
  },
  {
   "cell_type": "code",
   "execution_count": 4,
   "metadata": {},
   "outputs": [],
   "source": [
    "def newton(f, df, x0, tolerance=1e-6, max_iter=10000):\n",
    "    '''\n",
    "    Find a root of given function using Newton's method with an initial guess.\n",
    "    \n",
    "    :param f: objective function\n",
    "    :param df: derivative of target function\n",
    "    :param x0: initial guess of root\n",
    "    :param tolerance: tolerance of stopping criteria\n",
    "    :param max_iter: maximum iteration allowed for calculation\n",
    "    :returns: root of objective function\n",
    "    '''\n",
    "    i = 0  # iteration counter\n",
    "    x = x0\n",
    "    \n",
    "    # newton's method logic\n",
    "    while abs(f(x)) > tolerance and i < max_iter:\n",
    "        x = x - f(x) / df(x)\n",
    "        i += 1\n",
    "    \n",
    "    # maximum iteration warning\n",
    "    if i == max_iter:\n",
    "        import warnings\n",
    "        warnings.warn(f'Maximum iteration reached. Current stopping criteria is {abs(f(x)) :.2e}', UserWarning)\n",
    "    \n",
    "    return x"
   ]
  },
  {
   "cell_type": "code",
   "execution_count": 5,
   "metadata": {},
   "outputs": [],
   "source": [
    "def test_func(x):\n",
    "    return x**3 + 5*x**2 - 2*x - 2\n",
    "\n",
    "def test_func_derivative(x):\n",
    "    return 3*x**2 + 10*x - 2"
   ]
  },
  {
   "cell_type": "code",
   "execution_count": 6,
   "metadata": {},
   "outputs": [
    {
     "data": {
      "text/plain": [
       "0.7856670111986841"
      ]
     },
     "execution_count": 6,
     "metadata": {},
     "output_type": "execute_result"
    }
   ],
   "source": [
    "newton(test_func, test_func_derivative, 10)"
   ]
  },
  {
   "cell_type": "markdown",
   "metadata": {},
   "source": [
    "## Root finding using `scipy.optimize.root_scalar()`\n",
    "[`scipy.optimize.root_scalar()`](https://docs.scipy.org/doc/scipy/reference/generated/scipy.optimize.root_scalar.html) can take various methods, each with their required input parameters."
   ]
  },
  {
   "cell_type": "code",
   "execution_count": 7,
   "metadata": {},
   "outputs": [],
   "source": [
    "from scipy.optimize import root_scalar"
   ]
  },
  {
   "cell_type": "code",
   "execution_count": 8,
   "metadata": {},
   "outputs": [],
   "source": [
    "def test_func(x):\n",
    "    return x**3 + 5*x**2 - 2*x - 2\n",
    "\n",
    "def test_func_derivative(x):\n",
    "    return 3*x**2 + 10*x - 2"
   ]
  },
  {
   "cell_type": "code",
   "execution_count": 9,
   "metadata": {},
   "outputs": [
    {
     "data": {
      "text/plain": [
       "      converged: True\n",
       "           flag: 'converged'\n",
       " function_calls: 41\n",
       "     iterations: 39\n",
       "           root: 0.7856670111996209"
      ]
     },
     "execution_count": 9,
     "metadata": {},
     "output_type": "execute_result"
    }
   ],
   "source": [
    "# bisection method\n",
    "root_scalar(test_func, bracket=[0, 1], method='bisect')"
   ]
  },
  {
   "cell_type": "code",
   "execution_count": 10,
   "metadata": {},
   "outputs": [
    {
     "data": {
      "text/plain": [
       "      converged: True\n",
       "           flag: 'converged'\n",
       " function_calls: 12\n",
       "     iterations: 6\n",
       "           root: -0.4797694818645718"
      ]
     },
     "execution_count": 10,
     "metadata": {},
     "output_type": "execute_result"
    }
   ],
   "source": [
    "# newton's method\n",
    "root_scalar(test_func, x0=0, fprime=test_func_derivative, method='newton')"
   ]
  },
  {
   "cell_type": "code",
   "execution_count": 11,
   "metadata": {},
   "outputs": [
    {
     "data": {
      "text/plain": [
       "      converged: True\n",
       "           flag: 'converged'\n",
       " function_calls: 13\n",
       "     iterations: 12\n",
       "           root: 0.7856670111980021"
      ]
     },
     "execution_count": 11,
     "metadata": {},
     "output_type": "execute_result"
    }
   ],
   "source": [
    "# brent’s method\n",
    "root_scalar(test_func, bracket=[0, 3], method='brentq')"
   ]
  },
  {
   "cell_type": "markdown",
   "metadata": {},
   "source": [
    "## Assessing errors of root finding algorithms\n",
    "\n",
    "**Problem Statement.** Consider the function \n",
    "\n",
    "$$\n",
    "f(x) = x^5 - 3x^4 + 5x^3 - 7x^2 + 6x - 2.\n",
    "$$\n",
    "\n",
    "1. Calculate an \"exact\" solution using `scipy.optimize`'s Newton's method and initial guess of $x_0 = 0$.\n",
    "2. Find the root of $f(x)$ using bisection method with interval of $[-100, 100]$ and a tolerance of $10^{-8}$. Calculate the error at each step.\n",
    "3. Find the root of $f(x)$ using Newton's method with an initial guess of $x_0 = 100$ and a tolerance of $10^{-8}$. Calculate the error at each step.\n",
    "4. Plot and compare the errors of bisection and Newton's method."
   ]
  },
  {
   "cell_type": "code",
   "execution_count": 12,
   "metadata": {},
   "outputs": [
    {
     "name": "stdout",
     "output_type": "stream",
     "text": [
      "The \"exact\" solution is 1.0000089368806895\n"
     ]
    }
   ],
   "source": [
    "## problem 1\n",
    "def f(x):\n",
    "    return x**5 - 3*x**4 + 5*x**3 - 7*x**2 + 6*x - 2\n",
    "\n",
    "def df(x):\n",
    "    return 5*x**4 - 12*x**3 + 15*x**2 - 14*x + 6\n",
    "\n",
    "x0 = 100\n",
    "exact = root_scalar(f, x0=100, fprime=df, method='newton').root\n",
    "print(f'The \"exact\" solution is {exact}')"
   ]
  },
  {
   "cell_type": "code",
   "execution_count": 13,
   "metadata": {},
   "outputs": [
    {
     "data": {
      "text/plain": [
       "1.0009765625"
      ]
     },
     "execution_count": 13,
     "metadata": {},
     "output_type": "execute_result"
    }
   ],
   "source": [
    "## problem 2 - bisection method\n",
    "mids = []\n",
    "bisection_errors = []\n",
    "\n",
    "left = -100\n",
    "right = 100\n",
    "tolerance = 1e-8\n",
    "max_iter = 1000\n",
    "f_mid = tolerance * 2  # arbitrary number greater than tolerance\n",
    "i = 0  # iteration counter\n",
    "\n",
    "# bisection method logic\n",
    "while abs(f_mid) > tolerance and i < max_iter:\n",
    "    mids.append((left + right) / 2)    \n",
    "    f_mid = f(mids[i])\n",
    "    bisection_errors.append(abs(exact - mids[i]))\n",
    "    if f_mid == 0.0:\n",
    "        break\n",
    "    elif f_mid * f(left) < 0:  # check sign change\n",
    "        right = mids[i]\n",
    "    elif f_mid * f(right) < 0:\n",
    "        left = mids[i]\n",
    "    else:\n",
    "        raise ValueError('f(a) and f(b) must have different signs')\n",
    "    i += 1\n",
    "\n",
    "mids[-1]"
   ]
  },
  {
   "cell_type": "code",
   "execution_count": 14,
   "metadata": {},
   "outputs": [
    {
     "data": {
      "text/plain": [
       "1.0014079515589658"
      ]
     },
     "execution_count": 14,
     "metadata": {},
     "output_type": "execute_result"
    }
   ],
   "source": [
    "## problem 3 - newton's method\n",
    "x = [100]\n",
    "newton_errors = [abs(exact - x[0])]\n",
    "i = 0  # iteration counter\n",
    "\n",
    "# newton's method logic\n",
    "while abs(f(x[i])) > tolerance and i < max_iter:\n",
    "    x.append(x[i] - f(x[i]) / df(x[i]))\n",
    "    newton_errors.append(abs(exact - x[i+1]))\n",
    "    i += 1\n",
    "x[-1]"
   ]
  },
  {
   "cell_type": "code",
   "execution_count": 15,
   "metadata": {},
   "outputs": [],
   "source": [
    "## probelm 4\n",
    "%config InlineBackend.figure_format = 'retina'\n",
    "%matplotlib inline\n",
    "\n",
    "plt.rcParams.update({\n",
    "    'font.family': 'Arial',  # Times New Roman, Calibri\n",
    "    'font.weight': 'normal',\n",
    "    'mathtext.fontset': 'cm',\n",
    "    'font.size': 18,\n",
    "    \n",
    "    'lines.linewidth': 2,\n",
    "    \n",
    "    'axes.linewidth': 2,\n",
    "    'axes.spines.top': False,\n",
    "    'axes.spines.right': False,\n",
    "    'axes.titleweight': 'bold',\n",
    "    'axes.titlesize': 18,\n",
    "    'axes.labelweight': 'bold',\n",
    "    \n",
    "    'xtick.major.size': 8,\n",
    "    'xtick.major.width': 2,\n",
    "    'ytick.major.size': 8,\n",
    "    'ytick.major.width': 2,\n",
    "    \n",
    "    'figure.dpi': 80,\n",
    "    'savefig.dpi': 300,\n",
    "    \n",
    "    'legend.framealpha': 1, \n",
    "    'legend.edgecolor': 'black',\n",
    "    'legend.fancybox': False,\n",
    "    'legend.fontsize': 14\n",
    "})"
   ]
  },
  {
   "cell_type": "code",
   "execution_count": 16,
   "metadata": {},
   "outputs": [
    {
     "data": {
      "text/plain": [
       "<matplotlib.legend.Legend at 0x1af3056a948>"
      ]
     },
     "execution_count": 16,
     "metadata": {},
     "output_type": "execute_result"
    },
    {
     "data": {
      "image/png": "[encoded data removed]",
      "text/plain": [
       "<Figure size 480x320 with 1 Axes>"
      ]
     },
     "metadata": {
      "image/png": {
       "height": 331,
       "width": 458
      },
      "needs_background": "light"
     },
     "output_type": "display_data"
    }
   ],
   "source": [
    "fig, ax = plt.subplots(figsize=(6, 4))\n",
    "ax.semilogy(np.arange(1, len(bisection_errors)+1), bisection_errors, 'o', label='Bisection method', alpha=0.8)\n",
    "ax.semilogy(np.arange(len(newton_errors)), newton_errors, '^', label=\"Newton's method\", alpha=0.8)\n",
    "ax.set_xlabel('Iterations')\n",
    "ax.set_ylabel('Error')\n",
    "ax.set_title('Error of root finding algorithms')\n",
    "ax.set_xlim(0)\n",
    "ax.legend()"
   ]
  },
  {
   "cell_type": "markdown",
   "metadata": {},
   "source": [
    "**Comment.** In this case, bisection method converges more rapidly than Newton's method, as shown in the steeper negative slope. The trend is not universal: it depends on the function, initial guess, and given interval. generally, Newton's method is faster than bisection if proper initial guess is chosen. However, Newton's method may be slow when the derivative of the function is zero at the root. It would also just doesn't work if the function is ill-conditioned. Also, analytical expression of derivative is needed for Newton's method."
   ]
  }
 ],
 "metadata": {
  "kernelspec": {
   "display_name": "Python 3",
   "language": "python",
   "name": "python3"
  },
  "language_info": {
   "codemirror_mode": {
    "name": "ipython",
    "version": 3
   },
   "file_extension": ".py",
   "mimetype": "text/x-python",
   "name": "python",
   "nbconvert_exporter": "python",
   "pygments_lexer": "ipython3",
   "version": "3.7.4"
  }
 },
 "nbformat": 4,
 "nbformat_minor": 4
}
