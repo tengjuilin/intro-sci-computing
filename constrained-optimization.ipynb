{
 "cells": [
  {
   "cell_type": "markdown",
   "metadata": {},
   "source": [
    "# Constrained Optimization\n",
    "\n",
    "Teng-Jui Lin\n",
    "\n",
    "Content adapted from UW AMATH 301, Beginning Scientific Computing. Although not covered in Spring 2020, the topic is presented in previous years in [Linear Programming and Genetic Algorithms](https://www.youtube.com/watch?v=wiQOsH8C-uQ).\n",
    "\n",
    "- Constrained optimization methods\n",
    "    - Linear programming\n",
    "    - Genetic algorithm\n",
    "- `scipy` implementations\n",
    "    - Linear programming by [`scipy.optimize.linprog()`](https://docs.scipy.org/doc/scipy/reference/generated/scipy.optimize.linprog.html)\n",
    "    - Genetic algorithm by [`scipy.optimize.differential_evolution()`](https://docs.scipy.org/doc/scipy/reference/generated/scipy.optimize.differential_evolution.html)"
   ]
  },
  {
   "cell_type": "markdown",
   "metadata": {},
   "source": [
    "## Linear programming\n",
    "\n",
    "When the objective function is linear and the constraints consist of linear inequalities and equalities, the optimization problem is called a linear program. Linear programming solved by [`scipy.optimize.linprog()`](https://docs.scipy.org/doc/scipy/reference/generated/scipy.optimize.linprog.html) minimizes the linear objective function\n",
    "\n",
    "$$\n",
    "\\min_\\mathbf{x} \\mathbf{c}^T\\mathbf{x}\n",
    "$$\n",
    "\n",
    "subjected to linear constraints\n",
    "\n",
    "$$\n",
    "\\mathbf{Ax \\le b} \\\\\n",
    "\\mathbf{\\bar{A}x=\\bar{b}} \\\\\n",
    "\\mathbf{x}_{\\text{low}} \\le \\mathbf{x} \\le \\mathbf{x}_{\\text{high}}\n",
    "$$"
   ]
  },
  {
   "cell_type": "markdown",
   "metadata": {},
   "source": [
    "### Implementation\n",
    "\n",
    "**Problem Statement.** Minimizing mixture cost. (Adapted from *Precalculus: Functions and Graphs* 12e by Swokowski and Cole, Section 8.5 Problem 23)\n",
    "\n",
    "Three substances, X, Y, and Z, each contain four ingredients, A, B, C, and D. The percentage of each ingredient and the cost in cents per kg of each substance are given in the following table.\n",
    "\n",
    "|Substance|A [%]|B [%]|C [%]|D [%]|Cost per kg [$]|\n",
    "|:-:|-:|-:|-:|-:|-:|\n",
    "|X|20|10|25|45|25|\n",
    "|Y|20|40|15|25|35|\n",
    "|Z|10|20|25|45|50|\n",
    "\n",
    "The labor fee for mixing is $10. How many kg of each substance should be combined to obtain a mixture of 20 kg containing at least 14% A, 16% B, and 20% C, so that the mixing cost is minimal? maximal?"
   ]
  },
  {
   "cell_type": "markdown",
   "metadata": {},
   "source": [
    "**Solution.** Suppose we need $x$ kg X, $y$ kg Y, and $z$ kg Z (with implicit bound of being nonnegative). The objective function we want to minimize is the cost function\n",
    "\n",
    "$$\n",
    "C = 25x + 35y + 50z + 10\n",
    "$$\n",
    "\n",
    "The total mass of 20 kg gives an equality constraint\n",
    "\n",
    "$$\n",
    "x + y + z = 20\n",
    "$$\n",
    "\n",
    "and the component mass gives inequality constraints\n",
    "\n",
    "$$\n",
    "\\begin{aligned}\n",
    "0.20x + 0.20y + 0.10z \\ge 0.14 \\times 20 \\\\\n",
    "0.10x + 0.40y + 0.20z \\ge 0.16 \\times 20 \\\\\n",
    "0.25x + 0.15y + 0.25z \\ge 0.20 \\times 20\n",
    "\\end{aligned}\n",
    "$$\n",
    "\n",
    "since the standard form requires less than or equal to sign, we need to multiply -1 on both sides to flip the sign.\n",
    "\n",
    "---\n",
    "\n",
    "Convert to standard form, we have the coefficients of the objective function\n",
    "\n",
    "$$\n",
    "\\boxed{\n",
    "\\mathbf{c} =\n",
    "\\begin{bmatrix}\n",
    "25 \\\\ 35 \\\\ 50\n",
    "\\end{bmatrix}\n",
    "}\n",
    "$$\n",
    "\n",
    "Note that the mixing labor cost of 10 dollars is not included because a shift in the function will not affect the minimum or maximum. We do keep in mind of the 10 dollars if we're calculating the minimum or maximum value.\n",
    "\n",
    "Convert the inequality constraints to the standard form\n",
    "\n",
    "$$\n",
    "\\mathbf{Ax \\le b}\n",
    "$$\n",
    "\n",
    "where\n",
    "\n",
    "$$\n",
    "\\boxed{\n",
    "\\mathbf{A} = -\n",
    "\\begin{bmatrix}\n",
    "0.20 & 0.20 & 0.10 \\\\\n",
    "0.10 & 0.40 & 0.20 \\\\\n",
    "0.25 & 0.15 & 0.25\n",
    "\\end{bmatrix},\n",
    "\\mathbf{x} =\n",
    "\\begin{bmatrix}\n",
    "x \\\\ y \\\\ z\n",
    "\\end{bmatrix},\n",
    "\\mathbf{b} = -\n",
    "\\begin{bmatrix}\n",
    "0.14 \\times 20 \\\\\n",
    "0.16 \\times 20 \\\\\n",
    "0.20 \\times 20\n",
    "\\end{bmatrix}\n",
    "}\n",
    "$$\n",
    "\n",
    "(note the negative signs) and the equality constraint\n",
    "\n",
    "$$\n",
    "\\mathbf{\\bar{A}x=\\bar{b}}\n",
    "$$\n",
    "\n",
    "where\n",
    "\n",
    "$$\n",
    "\\boxed{\n",
    "\\mathbf{\\bar{A}} =\n",
    "\\begin{bmatrix}\n",
    "1 & 1 & 1\n",
    "\\end{bmatrix},\n",
    "\\mathbf{x} =\n",
    "\\begin{bmatrix}\n",
    "x \\\\ y \\\\ z\n",
    "\\end{bmatrix},\n",
    "\\mathbf{\\bar{b}} =\n",
    "\\begin{bmatrix}\n",
    "20\n",
    "\\end{bmatrix}\n",
    "}\n",
    "$$\n",
    "\n",
    "with bounds\n",
    "\n",
    "$$\n",
    "\\mathbf{x}_{\\text{low}} \\le \\mathbf{x}\n",
    "$$\n",
    "\n",
    "where\n",
    "\n",
    "$$\n",
    "\\boxed{\n",
    "\\mathbf{x}_{\\text{low}} =\n",
    "\\begin{bmatrix}\n",
    "0 \\\\ 0 \\\\ 0\n",
    "\\end{bmatrix},\n",
    "\\mathbf{x} =\n",
    "\\begin{bmatrix}\n",
    "x \\\\ y \\\\ z\n",
    "\\end{bmatrix}\n",
    "}\n",
    "$$\n",
    "\n",
    "We can now solve the linear program using [`scipy.optimize.linprog()`](https://docs.scipy.org/doc/scipy/reference/generated/scipy.optimize.linprog.html)."
   ]
  },
  {
   "cell_type": "code",
   "execution_count": 17,
   "metadata": {},
   "outputs": [],
   "source": [
    "import numpy as np\n",
    "import matplotlib.pyplot as plt\n",
    "import scipy\n",
    "from scipy import optimize"
   ]
  },
  {
   "cell_type": "code",
   "execution_count": 18,
   "metadata": {},
   "outputs": [],
   "source": [
    "# define linear program parameters\n",
    "labor_cost = 10\n",
    "objec_func_coeff = np.array([30, 35, 10])\n",
    "A_ineq = -np.array([[0.1, 0.2, 0.1], [0.1, 0.4, 0.2], [0.25, 0.15, 0.25]])\n",
    "b_ineq = -20 * np.array([0.14, 0.16, 0.2])\n",
    "A_eq = np.array([[1, 1, 1]])\n",
    "b_eq = np.array([20])\n",
    "bounds = np.array([[0, None], [0, None], [0, None]])"
   ]
  },
  {
   "cell_type": "code",
   "execution_count": 19,
   "metadata": {},
   "outputs": [
    {
     "data": {
      "text/plain": [
       "     con: array([2.10902869e-08])\n",
       "     fun: 399.9999993339417\n",
       " message: 'Optimization terminated successfully.'\n",
       "     nit: 6\n",
       "   slack: array([-4.00015709e-09,  2.39999999e+00,  1.99999997e-01])\n",
       "  status: 0\n",
       " success: True\n",
       "       x: array([8.81328635e-10, 7.99999998e+00, 1.20000000e+01])"
      ]
     },
     "execution_count": 19,
     "metadata": {},
     "output_type": "execute_result"
    }
   ],
   "source": [
    "# linear programming\n",
    "min_soln = scipy.optimize.linprog(objec_func_coeff, A_ub=A_ineq, b_ub=b_ineq, A_eq=A_eq, b_eq=b_eq, bounds=bounds)\n",
    "min_soln"
   ]
  },
  {
   "cell_type": "code",
   "execution_count": 20,
   "metadata": {},
   "outputs": [
    {
     "name": "stdout",
     "output_type": "stream",
     "text": [
      "x = 0.0 kg\n",
      "y = 8.0 kg\n",
      "z = 12.0 kg\n",
      "C_min = $ 410.0\n"
     ]
    }
   ],
   "source": [
    "# display min soln\n",
    "if min_soln.status == 0:\n",
    "    print(f'x = {min_soln.x[0] :.1f} kg')\n",
    "    print(f'y = {min_soln.x[1] :.1f} kg')\n",
    "    print(f'z = {min_soln.x[2] :.1f} kg')\n",
    "    print(f'C_min = $ {min_soln.fun + labor_cost :.1f}')  # note the labor cost\n",
    "else:\n",
    "    print(min_soln.message)"
   ]
  },
  {
   "cell_type": "markdown",
   "metadata": {},
   "source": [
    "To solve for maximum, multiply -1 to the objective function. Therefore, we add a negative sign to the objective function coefficients."
   ]
  },
  {
   "cell_type": "code",
   "execution_count": 21,
   "metadata": {},
   "outputs": [],
   "source": [
    "# solve for maximum\n",
    "objec_func_coeff = -np.array([30, 35, 10])"
   ]
  },
  {
   "cell_type": "code",
   "execution_count": 22,
   "metadata": {},
   "outputs": [],
   "source": [
    "# linear programming\n",
    "max_soln = scipy.optimize.linprog(objec_func_coeff, A_ub=A_ineq, b_ub=b_ineq, A_eq=A_eq, b_eq=b_eq, bounds=bounds)"
   ]
  },
  {
   "cell_type": "code",
   "execution_count": 23,
   "metadata": {},
   "outputs": [
    {
     "name": "stdout",
     "output_type": "stream",
     "text": [
      "x = 10.0 kg\n",
      "y = 10.0 kg\n",
      "z = 0.0 kg\n",
      "C_min = $ 660.0\n"
     ]
    }
   ],
   "source": [
    "# display max soln\n",
    "if max_soln.status == 0:\n",
    "    print(f'x = {max_soln.x[0] :.1f} kg')\n",
    "    print(f'y = {max_soln.x[1] :.1f} kg')\n",
    "    print(f'z = {max_soln.x[2] :.1f} kg')\n",
    "    print(f'C_min = $ {-max_soln.fun + labor_cost :.1f}')  # note the negative sign and the labor cost\n",
    "else:\n",
    "    print(max_soln.message)"
   ]
  },
  {
   "cell_type": "markdown",
   "metadata": {},
   "source": [
    "## Genetic algorithm\n",
    "\n",
    "For nonconvex, nonlinear functions, genetic algorithm is the last hope for optimization. One form of genetic algorithm minimizes an objective function $\\min f(x)$ by\n",
    "\n",
    "1. Guess $n$ points $\\mathbf{x}_{\\text{guess}, i} = \\{x_1, x_2, \\dots, x_n\\}$\n",
    "2. Evaluate the $n$ points with the objective function $\\mathbf{y}_{\\text{guess}, i} = \\{f(x_1), f(x_2), \\dots, f(x_n)\\}$\n",
    "3. Keep $p$ points in $\\mathbf{x}_{\\text{guess}, i}$ that has the smallest objective function $\\mathbf{y}_{\\text{guess}, i}$, denote as $\\mathbf{x}_{\\text{best}, i}$\n",
    "4. Discard the other $n-p$ points\n",
    "5. Permute the $p$ points in $\\mathbf{x}_{\\text{best}, i}$ for $\\frac{n}{p}-1$ times to generate a total of $n$ points $\\mathbf{x}_{\\text{guess}, i+1}$\n",
    "6. Use $\\mathbf{x}_{\\text{guess}, i+1}$ to repeat the above steps\n",
    "\n",
    "Genetic algorithm does not guarantee optimal solution and may be slow, but it is the last hope for optimizing nonconvex and nonlinear objective functions."
   ]
  },
  {
   "cell_type": "markdown",
   "metadata": {},
   "source": [
    "### Implementation\n",
    "\n",
    "We first implement our own genetic algorithm; we then explore scipy implementation of [`scipy.optimize.differential_evolution()`](https://docs.scipy.org/doc/scipy/reference/generated/scipy.optimize.differential_evolution.html).\n",
    "\n",
    "**Problem Statement.** Use the functional form\n",
    "\n",
    "$$\n",
    "A \\cos(Bx) + C\n",
    "$$\n",
    "\n",
    "to fit the data\n",
    "\n",
    "`[75, 77, 76, 73, 69, 68, 63, 59, 57, 55, 54, 52, 50, 50, 49, 49, 49, 50, 54, 56, 59, 63, 67, 72]`\n",
    "\n",
    "using\n",
    "\n",
    "- genetic algorithm implementation\n",
    "- genetic algorithm by `scipy.optimize.differential_evolution()`\n",
    "- general curve fitting by `scipy.optimize.curve_fit()`\n",
    "- minimization of sum of squared error by `scipy.optimize.fmin()`\n",
    "\n",
    "Compare their performance."
   ]
  },
  {
   "cell_type": "markdown",
   "metadata": {},
   "source": [
    "#### Genetic algorithm implementation"
   ]
  },
  {
   "cell_type": "code",
   "execution_count": 24,
   "metadata": {},
   "outputs": [],
   "source": [
    "# given data\n",
    "data_y = np.array([75, 77, 76, 73, 69, 68, 63, 59, 57, 55, 54, 52, 50, 50, 49, 49, 49, 50, 54, 56, 59, 63, 67, 72])\n",
    "data_x = np.arange(len(data_y))"
   ]
  },
  {
   "cell_type": "code",
   "execution_count": 25,
   "metadata": {},
   "outputs": [],
   "source": [
    "def func(x, A, B, C):\n",
    "    return A*np.cos(B*x) + C\n",
    "\n",
    "def sse(coeffs):\n",
    "    '''Custom sum of squared error for the problem.'''\n",
    "    return np.sum((func(data_x, *coeffs) - data_y)**2)"
   ]
  },
  {
   "cell_type": "code",
   "execution_count": 26,
   "metadata": {},
   "outputs": [],
   "source": [
    "def genetic_algorithm(func, initial_guess, guesses=200, keep=10, tolerance=1e-8, max_generation=200, seed=None):\n",
    "    '''\n",
    "    Minimize a function using genetic algorithm.\n",
    "    \n",
    "    :param func: objective function\n",
    "    :param initial_guess: initial guess to the parameters of objective function\n",
    "    :param guesses: amount of candidate guesses generated each generation\n",
    "    :param keep: amount of guesses with minimum function error is kept to the next generation\n",
    "    :param tolerance: tolerance of stopping criteria\n",
    "    :param max_generation: maximum generation (iteration) allowed for calculation\n",
    "    :param seed: random seed for np.random.randn\n",
    "    :returns: parameters of objective function with minimum function value\n",
    "    '''\n",
    "    # iteration counter\n",
    "    generation = 1\n",
    "    # model parameters\n",
    "    mutate = guesses - keep\n",
    "    mutate_multiple = int((guesses - keep)/keep)\n",
    "    # stopping critera\n",
    "    error = np.full(guesses, tolerance*2)\n",
    "    \n",
    "    # initial guesses\n",
    "    if seed is not None:\n",
    "        np.random.seed(seed)\n",
    "    Ak = (np.array([initial_guess]) + np.random.randn(guesses, 3)).T\n",
    "    \n",
    "    # genetic algotirhm logic\n",
    "    while np.min(error) > tolerance and generation < max_generation:\n",
    "        for j in range(guesses):\n",
    "            error[j] = func(Ak[:, j])\n",
    "        min_indices = np.argsort(error)[:keep]\n",
    "        # keep the few with minimal error\n",
    "        Ak[:, :keep] = Ak[:, min_indices]\n",
    "        # discard the rest\n",
    "        # perturb the few with minimal error, with decreasing perturbation each generation\n",
    "        Ak[:, keep:] = np.tile(Ak[:, min_indices], mutate_multiple) + np.random.randn(3, mutate)/generation\n",
    "        generation += 1\n",
    "        \n",
    "    # iteration and error display\n",
    "    print(f'generation = {generation}')\n",
    "    print(f'error func value = {np.min(error) :.2e}')\n",
    "    \n",
    "    return Ak[:, 0]"
   ]
  },
  {
   "cell_type": "code",
   "execution_count": 27,
   "metadata": {},
   "outputs": [
    {
     "name": "stdout",
     "output_type": "stream",
     "text": [
      "generation = 200\n",
      "error func value = 4.11e+01\n"
     ]
    },
    {
     "data": {
      "text/plain": [
       "array([13.9395037 ,  0.22920153, 61.94409182])"
      ]
     },
     "execution_count": 27,
     "metadata": {},
     "output_type": "execute_result"
    }
   ],
   "source": [
    "# solve by genetic algorithm\n",
    "initial_guess = [10, 1, 60]\n",
    "genetic_params = genetic_algorithm(sse, initial_guess, seed=1)\n",
    "genetic_y = func(data_x, *genetic_params)\n",
    "genetic_params"
   ]
  },
  {
   "cell_type": "markdown",
   "metadata": {},
   "source": [
    "#### `scipy` implementations"
   ]
  },
  {
   "cell_type": "code",
   "execution_count": 28,
   "metadata": {
    "scrolled": true
   },
   "outputs": [
    {
     "data": {
      "text/plain": [
       "     fun: 41.147182536784754\n",
       "     jac: array([-4.26325606e-06,  7.38964446e-05,  1.42108535e-06])\n",
       " message: 'Optimization terminated successfully.'\n",
       "    nfev: 862\n",
       "     nit: 17\n",
       " success: True\n",
       "       x: array([13.94110062,  0.22918809, 61.94493538])"
      ]
     },
     "execution_count": 28,
     "metadata": {},
     "output_type": "execute_result"
    }
   ],
   "source": [
    "# differential_evolution()\n",
    "bounds = [(10, 15), (0, np.pi/6), (60, 80)]\n",
    "diff_evo_params = scipy.optimize.differential_evolution(sse, bounds, seed=1)\n",
    "diff_evo_y = func(data_x, *diff_evo_params.x)\n",
    "diff_evo_params"
   ]
  },
  {
   "cell_type": "code",
   "execution_count": 29,
   "metadata": {},
   "outputs": [
    {
     "name": "stdout",
     "output_type": "stream",
     "text": [
      "Optimization terminated successfully.\n",
      "         Current function value: 41.147183\n",
      "         Iterations: 326\n",
      "         Function evaluations: 596\n"
     ]
    },
    {
     "data": {
      "text/plain": [
       "array([13.94113865,  0.22918816, 61.9449455 ])"
      ]
     },
     "execution_count": 29,
     "metadata": {},
     "output_type": "execute_result"
    }
   ],
   "source": [
    "# fmin()\n",
    "initial_guess = [15, 0, 60]\n",
    "fmin_params = scipy.optimize.fmin(sse, initial_guess)\n",
    "fmin_y = func(data_x, *fmin_params)\n",
    "fmin_params"
   ]
  },
  {
   "cell_type": "code",
   "execution_count": 30,
   "metadata": {},
   "outputs": [
    {
     "data": {
      "text/plain": [
       "array([1.62952777e+00, 1.08537130e+05, 6.01668538e+01])"
      ]
     },
     "execution_count": 30,
     "metadata": {},
     "output_type": "execute_result"
    }
   ],
   "source": [
    "# curve_fit()\n",
    "initial_guess = [15, 0, 60]\n",
    "curve_fit_params, pcov = scipy.optimize.curve_fit(func, data_x, data_y, p0=initial_guess)\n",
    "curve_fit_y = func(data_x, *curve_fit_params)\n",
    "curve_fit_params"
   ]
  },
  {
   "cell_type": "code",
   "execution_count": 31,
   "metadata": {},
   "outputs": [],
   "source": [
    "# plot settings\n",
    "%config InlineBackend.figure_format = 'retina'\n",
    "%matplotlib inline\n",
    "\n",
    "plt.rcParams.update({\n",
    "    'font.family': 'Arial',  # Times New Roman, Calibri\n",
    "    'font.weight': 'normal',\n",
    "    'mathtext.fontset': 'cm',\n",
    "    'font.size': 18,\n",
    "    \n",
    "    'lines.linewidth': 2,\n",
    "    \n",
    "    'axes.linewidth': 2,\n",
    "    'axes.spines.top': False,\n",
    "    'axes.spines.right': False,\n",
    "    'axes.titleweight': 'bold',\n",
    "    'axes.titlesize': 18,\n",
    "    'axes.labelweight': 'bold',\n",
    "    \n",
    "    'xtick.major.size': 8,\n",
    "    'xtick.major.width': 2,\n",
    "    'ytick.major.size': 8,\n",
    "    'ytick.major.width': 2,\n",
    "    \n",
    "    'figure.dpi': 80,\n",
    "    'savefig.dpi': 300,\n",
    "    \n",
    "    'legend.framealpha': 1, \n",
    "    'legend.edgecolor': 'black',\n",
    "    'legend.fancybox': False,\n",
    "    'legend.fontsize': 14\n",
    "})"
   ]
  },
  {
   "cell_type": "code",
   "execution_count": 32,
   "metadata": {
    "scrolled": false
   },
   "outputs": [
    {
     "data": {
      "text/plain": [
       "<matplotlib.legend.Legend at 0x297fbdea1c8>"
      ]
     },
     "execution_count": 32,
     "metadata": {},
     "output_type": "execute_result"
    },
    {
     "data": {
      "image/png": "[encoded data removed]",
      "text/plain": [
       "<Figure size 320x320 with 1 Axes>"
      ]
     },
     "metadata": {
      "image/png": {
       "height": 331,
       "width": 550
      },
      "needs_background": "light"
     },
     "output_type": "display_data"
    }
   ],
   "source": [
    "fig, ax = plt.subplots(figsize=(4, 4))\n",
    "ax.plot(data_x, data_y, 'o', label='Data')\n",
    "ax.plot(data_x, diff_evo_y, label='differential_evolution()', lw=5, alpha=0.5)\n",
    "ax.plot(data_x, fmin_y, '-.', label='fmin()', lw=3)\n",
    "ax.plot(data_x, genetic_y, '--', label='Genetic algorithm')\n",
    "ax.plot(data_x, curve_fit_y, label='curve_fit()')\n",
    "# plot settings\n",
    "ax.set_xlabel('$x$')\n",
    "ax.set_ylabel('$y$')\n",
    "ax.set_title('Fitting data points')\n",
    "ax.set_xlim(0)\n",
    "ax.set_ylim(45, 80)\n",
    "ax.legend(loc='upper left', bbox_to_anchor=(1.05, 1.05))"
   ]
  },
  {
   "cell_type": "markdown",
   "metadata": {},
   "source": [
    "The graph shows that the genetic algorithm implemented has comparable accuracy as `differential_evolution()` and `fmin()`. However, `curve_fit()` did not have good performance even with good initial guesses."
   ]
  }
 ],
 "metadata": {
  "kernelspec": {
   "display_name": "Python 3",
   "language": "python",
   "name": "python3"
  },
  "language_info": {
   "codemirror_mode": {
    "name": "ipython",
    "version": 3
   },
   "file_extension": ".py",
   "mimetype": "text/x-python",
   "name": "python",
   "nbconvert_exporter": "python",
   "pygments_lexer": "ipython3",
   "version": "3.7.4"
  }
 },
 "nbformat": 4,
 "nbformat_minor": 4
}
