{
 "cells": [
  {
   "cell_type": "markdown",
   "metadata": {},
   "source": [
    "# Vector and matrix operations\n",
    "\n",
    "Teng-Jui Lin\n",
    "\n",
    "Content adapted from UW AMATH 301, Beginning Scientific Computing, in Spring 2020.\n",
    "\n",
    "- Dot product by [`@`](https://numpy.org/doc/stable/reference/generated/numpy.dot.html)\n",
    "- Norm by [`numpy.linalg.norm()`](https://numpy.org/doc/stable/reference/generated/numpy.linalg.norm.html)\n",
    "- Matrix multiplication by [`@`](https://numpy.org/doc/stable/reference/generated/numpy.matmul.html)"
   ]
  },
  {
   "cell_type": "markdown",
   "metadata": {},
   "source": [
    "## Dot product\n",
    "\n",
    "The dot product of row vectors $\\mathbf{u} = [u_1, \\dots, u_n]$ and $\\mathbf{v} = [v_1, \\dots, v_n]$ is\n",
    "\n",
    "$$\n",
    "\\mathbf{u}\\cdot\\mathbf{v} = \\mathbf{u}\\mathbf{v}^T = \\sum\\limits_{i=1}^n u_iv_i\n",
    "$$\n",
    "\n",
    "**Problem Statement.** Find the dot product of vectors\n",
    "\n",
    "$$\n",
    "\\mathbf{u} =\n",
    "\\begin{bmatrix}\n",
    "-9 & 2 & 4 & 2\n",
    "\\end{bmatrix}^T,\n",
    "\\mathbf{v} =\n",
    "\\begin{bmatrix}\n",
    "4 & 3 & 1 & 0\n",
    "\\end{bmatrix}^T\n",
    "$$"
   ]
  },
  {
   "cell_type": "code",
   "execution_count": 1,
   "metadata": {},
   "outputs": [],
   "source": [
    "import numpy as np\n",
    "import scipy"
   ]
  },
  {
   "cell_type": "code",
   "execution_count": 2,
   "metadata": {},
   "outputs": [],
   "source": [
    "u = np.array([-9, 2, 4, 2])\n",
    "v = np.array([4, 3, 1, 0])"
   ]
  },
  {
   "cell_type": "code",
   "execution_count": 3,
   "metadata": {},
   "outputs": [
    {
     "data": {
      "text/plain": [
       "-26"
      ]
     },
     "execution_count": 3,
     "metadata": {},
     "output_type": "execute_result"
    }
   ],
   "source": [
    "# dot product\n",
    "u@v"
   ]
  },
  {
   "cell_type": "markdown",
   "metadata": {},
   "source": [
    "## Norms\n",
    "\n",
    "If $p \\ge 1$ is a real number, then the $p$-norm of vector $\\mathbf{x} = [x_1, \\dots, x_n]$ is\n",
    "\n",
    "$$\n",
    "\\Vert\\mathbf{x}\\Vert_p \\equiv \\left( \\sum\\limits_{i=1}^n |x_i|^p \\right)^{1/p}\n",
    "$$\n",
    "\n",
    "For example, when $p=2$, the 2-norm, or Euclidean norm, Frobenius norm, is\n",
    "\n",
    "$$\n",
    "\\Vert\\mathbf{x}\\Vert_2 \\equiv \\left( \\sum\\limits_{i=1}^n |x_i|^2 \\right)^{1/2} = \\sqrt{x_1^2 + x_2^2 + \\cdots + x_n^2}\n",
    "$$\n",
    "\n",
    "When $p=1$, the 1-norm, or Manhattan norm, is the sum of absolute value of the components\n",
    "\n",
    "$$\n",
    "\\Vert\\mathbf{x}\\Vert_1 \\equiv \\left( \\sum\\limits_{i=1}^n |x_i|^1 \\right)^{1/1} = |x_1| + |x_2| + \\cdots + |x_n|\n",
    "$$\n",
    "\n",
    "When $p\\to \\infty$, the infinity norm, or maximum norm, is the maximum value of the absolute value of the component\n",
    "\n",
    "$$\n",
    "\\Vert\\mathbf{x}\\Vert_\\infty \\equiv \\max\\limits_i |x_i|\n",
    "$$\n",
    "\n",
    "**Problem Statement.** Find the 2-norm, 1-norm, and infinity norm of\n",
    "\n",
    "$$\n",
    "\\mathbf{u} =\n",
    "\\begin{bmatrix}\n",
    "-9 & 2 & 4 & 2\n",
    "\\end{bmatrix}^T\n",
    "$$"
   ]
  },
  {
   "cell_type": "code",
   "execution_count": 4,
   "metadata": {
    "scrolled": true
   },
   "outputs": [
    {
     "data": {
      "text/plain": [
       "10.246950765959598"
      ]
     },
     "execution_count": 4,
     "metadata": {},
     "output_type": "execute_result"
    }
   ],
   "source": [
    "# 2-norm, Frobenius norm\n",
    "np.linalg.norm(u)"
   ]
  },
  {
   "cell_type": "code",
   "execution_count": 5,
   "metadata": {},
   "outputs": [
    {
     "data": {
      "text/plain": [
       "17.0"
      ]
     },
     "execution_count": 5,
     "metadata": {},
     "output_type": "execute_result"
    }
   ],
   "source": [
    "# 1-norm\n",
    "np.linalg.norm(u, 1)"
   ]
  },
  {
   "cell_type": "code",
   "execution_count": 6,
   "metadata": {},
   "outputs": [
    {
     "data": {
      "text/plain": [
       "9.0"
      ]
     },
     "execution_count": 6,
     "metadata": {},
     "output_type": "execute_result"
    }
   ],
   "source": [
    "# infinity norm, maximum norm\n",
    "np.linalg.norm(u, np.inf)"
   ]
  },
  {
   "cell_type": "markdown",
   "metadata": {},
   "source": [
    "## Matrix multiplication\n",
    "\n",
    "**Problem Statement.** Find the matrix product $\\mathbf{AB}$ where\n",
    "\n",
    "$$\n",
    "\\mathbf{A} =\n",
    "\\begin{bmatrix}\n",
    "1 & 4 & 5 & -1 \\\\\n",
    "2 & -3 & 1 & 3\n",
    "\\end{bmatrix},\n",
    "\\mathbf{B} =\n",
    "\\begin{bmatrix}\n",
    "2 & 6 & 2 \\\\\n",
    "6 & 4 & 2 \\\\\n",
    "0 & 2 & -1 \\\\\n",
    "1 & 5 & 6 \\\\\n",
    "\\end{bmatrix}\n",
    "$$"
   ]
  },
  {
   "cell_type": "code",
   "execution_count": 7,
   "metadata": {},
   "outputs": [],
   "source": [
    "A = np.array([[1, 4, 5, -1], [2, -3, 1, 3]])\n",
    "B = np.array([[2, 6, 2], [6, 4, 2], [0, 2, -1], [1, 5, 6]])"
   ]
  },
  {
   "cell_type": "code",
   "execution_count": 8,
   "metadata": {},
   "outputs": [
    {
     "data": {
      "text/plain": [
       "array([[ 25,  27,  -1],\n",
       "       [-11,  17,  15]])"
      ]
     },
     "execution_count": 8,
     "metadata": {},
     "output_type": "execute_result"
    }
   ],
   "source": [
    "# matrix multiplication\n",
    "A@B"
   ]
  }
 ],
 "metadata": {
  "kernelspec": {
   "display_name": "Python 3",
   "language": "python",
   "name": "python3"
  },
  "language_info": {
   "codemirror_mode": {
    "name": "ipython",
    "version": 3
   },
   "file_extension": ".py",
   "mimetype": "text/x-python",
   "name": "python",
   "nbconvert_exporter": "python",
   "pygments_lexer": "ipython3",
   "version": "3.7.4"
  }
 },
 "nbformat": 4,
 "nbformat_minor": 4
}
